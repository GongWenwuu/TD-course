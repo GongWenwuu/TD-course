{
 "cells": [
  {
   "cell_type": "markdown",
   "metadata": {},
   "source": [
    "## Iterative Singular Value Decomposition (iSVD-mat)"
   ]
  },
  {
   "cell_type": "code",
   "execution_count": 1,
   "metadata": {},
   "outputs": [],
   "source": [
    "import numpy as np\n",
    "from scipy.linalg import sqrtm\n",
    "\n",
    "def compute_mape(var, var_hat):\n",
    "    return np.sum(np.abs(var - var_hat) / var) / var.shape[0]\n",
    "\n",
    "def compute_rmse(var, var_hat):\n",
    "    return  np.sqrt(np.sum((var - var_hat) ** 2) / var.shape[0])\n",
    "\n",
    "def isvd(dense_mat, sparse_mat, rank, maxiter = 100):\n",
    "    \n",
    "    N, T = sparse_mat.shape\n",
    "    ind = sparse_mat != 0\n",
    "    pos_miss = np.where(sparse_mat == 0)\n",
    "    pos_test = np.where((dense_mat != 0) & (sparse_mat == 0))\n",
    "    dense_test = dense_mat[pos_test]\n",
    "    del dense_mat\n",
    "    \n",
    "    ## Initialization\n",
    "    mu = np.mean(sparse_mat[sparse_mat != 0])\n",
    "    bias_row = np.zeros(N)\n",
    "    bias_col = np.zeros(T)\n",
    "    temp = sparse_mat - mu\n",
    "    for n in range(N):\n",
    "        bias_row[n] = np.mean(temp[n, :][sparse_mat[n, :] != 0])\n",
    "    for t in range(T):\n",
    "        bias_col[t] = np.mean(temp[:, t][sparse_mat[:, t] != 0])\n",
    "    mat = sparse_mat.copy()\n",
    "    del sparse_mat\n",
    "    mat[pos_miss] = (mu + bias_row.reshape([N, 1]) + bias_col.reshape([1, T]))[pos_miss]\n",
    "    \n",
    "    ## Iterative SVD\n",
    "    show_iter = 10\n",
    "    for it in range(maxiter):\n",
    "        u, s, v = np.linalg.svd(mat, full_matrices = False)\n",
    "        mat_hat = u[:, : rank] @ np.diag(s[: rank]) @ v[: rank, :]\n",
    "        mat[pos_miss] = mat_hat[pos_miss]\n",
    "        if (it + 1) % show_iter == 0:\n",
    "            print('Iter: {}'.format(it + 1))\n",
    "            print('MAPE: {:.6}'.format(compute_mape(dense_test, mat[pos_test])))\n",
    "            print('RMSE: {:.6}'.format(compute_rmse(dense_test, mat[pos_test])))\n",
    "            print()\n",
    "        \n",
    "    return mat"
   ]
  },
  {
   "cell_type": "markdown",
   "metadata": {},
   "source": [
    "### Evaluation on Guangzhou Speed Data"
   ]
  },
  {
   "cell_type": "code",
   "execution_count": 2,
   "metadata": {},
   "outputs": [],
   "source": [
    "import scipy.io\n",
    "\n",
    "tensor = scipy.io.loadmat('datasets/Guangzhou-data-set/tensor.mat')['tensor']\n",
    "random_tensor = scipy.io.loadmat('datasets/Guangzhou-data-set/random_tensor.mat')['random_tensor']\n",
    "dense_mat = tensor.reshape([tensor.shape[0], tensor.shape[1] * tensor.shape[2]])\n",
    "missing_rate = 0.4\n",
    "\n",
    "## Random missing (RM)\n",
    "binary_mat = (np.round(random_tensor + 0.5 - missing_rate)\n",
    "              .reshape([random_tensor.shape[0], random_tensor.shape[1] * random_tensor.shape[2]]))\n",
    "sparse_mat = np.multiply(dense_mat, binary_mat)"
   ]
  },
  {
   "cell_type": "code",
   "execution_count": 3,
   "metadata": {},
   "outputs": [
    {
     "name": "stdout",
     "output_type": "stream",
     "text": [
      "Iter: 10\n",
      "MAPE: 0.104059\n",
      "RMSE: 4.41633\n",
      "\n",
      "Iter: 20\n",
      "MAPE: 0.104076\n",
      "RMSE: 4.43407\n",
      "\n",
      "Iter: 30\n",
      "MAPE: 0.104119\n",
      "RMSE: 4.44041\n",
      "\n",
      "Iter: 40\n",
      "MAPE: 0.104144\n",
      "RMSE: 4.44323\n",
      "\n",
      "Iter: 50\n",
      "MAPE: 0.104157\n",
      "RMSE: 4.44455\n",
      "\n",
      "Iter: 60\n",
      "MAPE: 0.104164\n",
      "RMSE: 4.44518\n",
      "\n",
      "Iter: 70\n",
      "MAPE: 0.104168\n",
      "RMSE: 4.44549\n",
      "\n",
      "Iter: 80\n",
      "MAPE: 0.104171\n",
      "RMSE: 4.44563\n",
      "\n",
      "Iter: 90\n",
      "MAPE: 0.104172\n",
      "RMSE: 4.4457\n",
      "\n",
      "Iter: 100\n",
      "MAPE: 0.104174\n",
      "RMSE: 4.44573\n",
      "\n",
      "Running time: 15 seconds\n",
      "\n"
     ]
    }
   ],
   "source": [
    "import time\n",
    "\n",
    "start = time.time()\n",
    "rank = 10\n",
    "mat_hat = isvd(dense_mat, sparse_mat, rank)\n",
    "end = time.time()\n",
    "print('Running time: %d seconds'%(end - start))\n",
    "print()"
   ]
  },
  {
   "cell_type": "code",
   "execution_count": null,
   "metadata": {},
   "outputs": [],
   "source": []
  }
 ],
 "metadata": {
  "kernelspec": {
   "display_name": "Python 3",
   "language": "python",
   "name": "python3"
  },
  "language_info": {
   "codemirror_mode": {
    "name": "ipython",
    "version": 3
   },
   "file_extension": ".py",
   "mimetype": "text/x-python",
   "name": "python",
   "nbconvert_exporter": "python",
   "pygments_lexer": "ipython3",
   "version": "3.8.3"
  }
 },
 "nbformat": 4,
 "nbformat_minor": 4
}
